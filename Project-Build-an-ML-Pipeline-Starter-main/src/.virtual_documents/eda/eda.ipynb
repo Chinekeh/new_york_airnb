!pip install wandb==0.16.0
!pip install ydata-profiling==4.12.1
!pip install pandas==2.1.3





import wandb
import pandas as pd
# Note that we use save_code=True in the call to wandb.init so the notebook is uploaded and versioned by W&B
run = wandb.init(project="nyc_airbnb", group="eda", save_code=True)
local_path = wandb.use_artifact("sample.csv:latest").file()
df = pd.read_csv(local_path)





df.info()


df.describe()


df.head()








# Drop outliers
min_price = 10
max_price = 350
idx = df['price'].between(min_price, max_price)
df = df[idx].copy()
# Convert last_review to datetime
df['last_review'] = pd.to_datetime(df['last_review'])








df.info()





run.finish()






